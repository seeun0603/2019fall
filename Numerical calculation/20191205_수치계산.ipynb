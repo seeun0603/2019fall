{
  "nbformat": 4,
  "nbformat_minor": 0,
  "metadata": {
    "colab": {
      "name": "20191205_수치계산",
      "provenance": [],
      "collapsed_sections": []
    },
    "kernelspec": {
      "name": "python3",
      "display_name": "Python 3"
    }
  },
  "cells": [
    {
      "cell_type": "code",
      "metadata": {
        "id": "MitmPPj0ZVS-",
        "colab_type": "code",
        "outputId": "0c4da793-21af-4f63-d857-49e8ba379659",
        "colab": {
          "base_uri": "https://localhost:8080/",
          "height": 107
        }
      },
      "source": [
        "import numpy as np\n",
        "data = np.arange(5)\n",
        "data = data[:, np.newaxis]\n",
        "np.hstack((data,data,data))#행으로 데이터 쌓기"
      ],
      "execution_count": 0,
      "outputs": [
        {
          "output_type": "execute_result",
          "data": {
            "text/plain": [
              "array([[0, 0, 0],\n",
              "       [1, 1, 1],\n",
              "       [2, 2, 2],\n",
              "       [3, 3, 3],\n",
              "       [4, 4, 4]])"
            ]
          },
          "metadata": {
            "tags": []
          },
          "execution_count": 5
        }
      ]
    },
    {
      "cell_type": "code",
      "metadata": {
        "id": "g0AAzxUCZssT",
        "colab_type": "code",
        "outputId": "b51b6013-a829-49ed-8cf9-7919632cad3d",
        "colab": {
          "base_uri": "https://localhost:8080/",
          "height": 53
        }
      },
      "source": [
        "import numpy as np\n",
        "x = np.linspace(-1,1,11)\n",
        "y = np.sin(np.pi*x)\n",
        "np.round(y, decimals=4) #반올림 소수점자리"
      ],
      "execution_count": 0,
      "outputs": [
        {
          "output_type": "execute_result",
          "data": {
            "text/plain": [
              "array([-0.    , -0.5878, -0.9511, -0.9511, -0.5878,  0.    ,  0.5878,\n",
              "        0.9511,  0.9511,  0.5878,  0.    ])"
            ]
          },
          "metadata": {
            "tags": []
          },
          "execution_count": 9
        }
      ]
    },
    {
      "cell_type": "code",
      "metadata": {
        "id": "E8tQc9aqdQxY",
        "colab_type": "code",
        "outputId": "4d522e67-116e-42be-c1a6-487057bf4443",
        "colab": {
          "base_uri": "https://localhost:8080/",
          "height": 35
        }
      },
      "source": [
        "data = np.arange(1,10).reshape(3,3)\n",
        "data\n",
        "data.sum(axis = 0)"
      ],
      "execution_count": 0,
      "outputs": [
        {
          "output_type": "execute_result",
          "data": {
            "text/plain": [
              "array([12, 15, 18])"
            ]
          },
          "metadata": {
            "tags": []
          },
          "execution_count": 25
        }
      ]
    },
    {
      "cell_type": "code",
      "metadata": {
        "id": "vlYqgvoWfuEi",
        "colab_type": "code",
        "outputId": "ed4997ed-9537-4201-b8a5-2e0966e34db9",
        "colab": {
          "base_uri": "https://localhost:8080/",
          "height": 35
        }
      },
      "source": [
        "a = np.arange(1,5)\n",
        "b = np.arange(4,0,-1)\n",
        "np.any(a<b)\n",
        "np.all(a<b)\n"
      ],
      "execution_count": 0,
      "outputs": [
        {
          "output_type": "execute_result",
          "data": {
            "text/plain": [
              "False"
            ]
          },
          "metadata": {
            "tags": []
          },
          "execution_count": 34
        }
      ]
    },
    {
      "cell_type": "code",
      "metadata": {
        "id": "1P0mFyWvhPRq",
        "colab_type": "code",
        "outputId": "e3454606-0259-4d42-93c6-721a60d20020",
        "colab": {
          "base_uri": "https://localhost:8080/",
          "height": 35
        }
      },
      "source": [
        "x = np.array([-2,-1,0,1,2])\n",
        "x >0\n",
        "1*(x>0) #(x>0)는 T/F가 1/0으로 나타난다\n",
        "x *(x>0)"
      ],
      "execution_count": 0,
      "outputs": [
        {
          "output_type": "execute_result",
          "data": {
            "text/plain": [
              "array([0, 0, 0, 1, 2])"
            ]
          },
          "metadata": {
            "tags": []
          },
          "execution_count": 39
        }
      ]
    },
    {
      "cell_type": "code",
      "metadata": {
        "id": "OLDiwa3GhwaB",
        "colab_type": "code",
        "outputId": "fdca273a-aa9a-40c4-9048-a37b25415ed7",
        "colab": {
          "base_uri": "https://localhost:8080/",
          "height": 35
        }
      },
      "source": [
        "x = np.linspace(-4,4,9)\n",
        "np.where(x<0,x**2,x**3) #삼항연산자랑 비슷\n",
        "np.select([x<-1,x<2,x>=2],[x**2,x**3,x**4])"
      ],
      "execution_count": 0,
      "outputs": [
        {
          "output_type": "execute_result",
          "data": {
            "text/plain": [
              "array([ 16.,   9.,   4.,  -1.,   0.,   1.,  16.,  81., 256.])"
            ]
          },
          "metadata": {
            "tags": []
          },
          "execution_count": 41
        }
      ]
    },
    {
      "cell_type": "code",
      "metadata": {
        "id": "T9CvFUb2kI96",
        "colab_type": "code",
        "outputId": "f7552bbe-e37f-46a3-fb17-5c7b58559d74",
        "colab": {
          "base_uri": "https://localhost:8080/",
          "height": 34
        }
      },
      "source": [
        "import numpy as np\n",
        "x = np.linspace(-4,4,9)\n",
        "np.choose([0,0,0,1,1,1,2,2,2], [x**2,x**3,x**4])#저 범위에서 나뉘는 것을 순서대로 ex) 첨에 -4인데 이때는 0으로 가고, 3번째 의 값은 -1인데 이때는 1번째로 간다. "
      ],
      "execution_count": 0,
      "outputs": [
        {
          "output_type": "execute_result",
          "data": {
            "text/plain": [
              "array([ 16.,   9.,   4.,  -1.,   0.,   1.,  16.,  81., 256.])"
            ]
          },
          "metadata": {
            "tags": []
          },
          "execution_count": 2
        }
      ]
    },
    {
      "cell_type": "code",
      "metadata": {
        "id": "ihPkspInpRqw",
        "colab_type": "code",
        "outputId": "7bb49809-558b-4a30-96c1-30c48614ec59",
        "colab": {
          "base_uri": "https://localhost:8080/",
          "height": 34
        }
      },
      "source": [
        "x = np.linspace(-4,4,9)\n",
        "np.nonzero(abs(x) >2) #인덱스 번호를 나타냄\n",
        "x[np.nonzero(abs(x) >2)] #그 인덱스에 해당하는 값을 알고 싶을 때"
      ],
      "execution_count": 0,
      "outputs": [
        {
          "output_type": "execute_result",
          "data": {
            "text/plain": [
              "array([-4., -3.,  3.,  4.])"
            ]
          },
          "metadata": {
            "tags": []
          },
          "execution_count": 4
        }
      ]
    },
    {
      "cell_type": "code",
      "metadata": {
        "id": "0B9P4YCdqBYg",
        "colab_type": "code",
        "outputId": "10ed76e1-502c-46fb-87e9-9b2d4593dbac",
        "colab": {
          "base_uri": "https://localhost:8080/",
          "height": 70
        }
      },
      "source": [
        "a= np.unique([1,2,3,3])\n",
        "b =np.unique([2,3,4,4,5,6,5])\n",
        "np.in1d(a,b) # 똑같은 값이 있으면 true, 없으면 false로 뜬다\n",
        "np.in1d(b,a)\n",
        "np.all(np.in1d(a,b))\n",
        "np.union1d(a,b) #중복 없이 합집합\n",
        "np.intersect1d(a,b) #교집합\n",
        "np.setdiff1d(a,b)#차집합\n",
        "np.setdiff1d(b,a)\n",
        "data = np.arange(9).reshape(3,3)\n",
        "data\n",
        "np.transpose(data)#행과 열을 변경"
      ],
      "execution_count": 0,
      "outputs": [
        {
          "output_type": "execute_result",
          "data": {
            "text/plain": [
              "array([[0, 3, 6],\n",
              "       [1, 4, 7],\n",
              "       [2, 5, 8]])"
            ]
          },
          "metadata": {
            "tags": []
          },
          "execution_count": 21
        }
      ]
    },
    {
      "cell_type": "code",
      "metadata": {
        "id": "1bvHSlQatlFQ",
        "colab_type": "code",
        "outputId": "9180490e-3a2c-40df-9a86-558f7b48bde6",
        "colab": {
          "base_uri": "https://localhost:8080/",
          "height": 52
        }
      },
      "source": [
        "A=np.arange(1,7).reshape(2,3)\n",
        "B=np.arange(1,7).reshape(3,2)\n",
        "A\n",
        "B\n",
        "np.dot(A,B) # A.dot(B)도 가능\n"
      ],
      "execution_count": 0,
      "outputs": [
        {
          "output_type": "execute_result",
          "data": {
            "text/plain": [
              "array([[22, 28],\n",
              "       [49, 64]])"
            ]
          },
          "metadata": {
            "tags": []
          },
          "execution_count": 8
        }
      ]
    },
    {
      "cell_type": "code",
      "metadata": {
        "id": "v5V9_fXJvQHX",
        "colab_type": "code",
        "outputId": "378c0135-0039-4336-a501-b59ce5ddee76",
        "colab": {
          "base_uri": "https://localhost:8080/",
          "height": 35
        }
      },
      "source": [
        "A= np.arange(9).reshape(3,3)\n",
        "A\n",
        "x = np.arange(3)\n",
        "x\n",
        "np.dot(A,x)"
      ],
      "execution_count": 0,
      "outputs": [
        {
          "output_type": "execute_result",
          "data": {
            "text/plain": [
              "array([ 5, 14, 23])"
            ]
          },
          "metadata": {
            "tags": []
          },
          "execution_count": 76
        }
      ]
    },
    {
      "cell_type": "code",
      "metadata": {
        "id": "x4TlO6wEv443",
        "colab_type": "code",
        "colab": {}
      },
      "source": [
        " "
      ],
      "execution_count": 0,
      "outputs": []
    }
  ]
}