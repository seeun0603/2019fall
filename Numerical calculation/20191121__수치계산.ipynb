{
  "nbformat": 4,
  "nbformat_minor": 0,
  "metadata": {
    "colab": {
      "name": "20191121_ 수치계산",
      "provenance": [],
      "collapsed_sections": []
    },
    "kernelspec": {
      "name": "python3",
      "display_name": "Python 3"
    }
  },
  "cells": [
    {
      "cell_type": "code",
      "metadata": {
        "id": "F63kKMvmThFq",
        "colab_type": "code",
        "outputId": "72346e45-78af-4cba-ca2f-fbaa62a1a1e5",
        "colab": {
          "base_uri": "https://localhost:8080/",
          "height": 34
        }
      },
      "source": [
        "import numpy as np\n",
        "data = np.array([[1,2],[3,4],[5,6]])\n",
        "type(data) #numpy.ndarray는 Numpy의 핵심인 다차원 행렬 자료구조 클래스\n",
        "data.ndim #2 = 차원의 수, 이경우 이차원 배열이라서\n",
        "data.shape #(3,2) = 행렬의 구조, 이 경우 data는 3행 2열이기 때문에 (3,2)\n",
        "data.size # 6 =  배열에 있는 전체 원소 개수\n",
        "data.dtype# dtype('int64') =배열 원소의 데이터 유형\n",
        "data.nbytes #48 = 데이터 저장에 사용된 바이트 수"
      ],
      "execution_count": 0,
      "outputs": [
        {
          "output_type": "execute_result",
          "data": {
            "text/plain": [
              "48"
            ]
          },
          "metadata": {
            "tags": []
          },
          "execution_count": 1
        }
      ]
    },
    {
      "cell_type": "code",
      "metadata": {
        "colab_type": "code",
        "outputId": "56af26d2-e6a3-4193-d22f-343be63325e6",
        "id": "38EFgOlkzSwY",
        "colab": {
          "base_uri": "https://localhost:8080/",
          "height": 34
        }
      },
      "source": [
        "import numpy as np\n",
        "data = np.array([1,2,3],dtype = np.int)#array에 있는 자료형을 dtype으로 바꾸겠다\n",
        "print(data)"
      ],
      "execution_count": 0,
      "outputs": [
        {
          "output_type": "stream",
          "text": [
            "[1 2 3]\n"
          ],
          "name": "stdout"
        }
      ]
    },
    {
      "cell_type": "code",
      "metadata": {
        "id": "osWZqkt4V5AG",
        "colab_type": "code",
        "outputId": "f8749b66-1e83-4891-e3ca-e502e78213fc",
        "colab": {
          "base_uri": "https://localhost:8080/",
          "height": 34
        }
      },
      "source": [
        "import numpy as np\n",
        "data = np.array([1,2,3],dtype = np.float)#array에 있는 자료형을 dtype으로 바꾸겠다\n",
        "print(data)"
      ],
      "execution_count": 0,
      "outputs": [
        {
          "output_type": "stream",
          "text": [
            "[1. 2. 3.]\n"
          ],
          "name": "stdout"
        }
      ]
    },
    {
      "cell_type": "code",
      "metadata": {
        "id": "Kne3eJ2AzejA",
        "colab_type": "code",
        "outputId": "c4f94b04-1bc8-4e79-a434-74515a98dcf2",
        "colab": {
          "base_uri": "https://localhost:8080/",
          "height": 34
        }
      },
      "source": [
        "import numpy as np\n",
        "data = np.array([1,2,3],dtype = np.complex)#array에 있는 자료형을 dtype으로 바꾸겠다\n",
        "print(data)"
      ],
      "execution_count": 0,
      "outputs": [
        {
          "output_type": "stream",
          "text": [
            "[1.+0.j 2.+0.j 3.+0.j]\n"
          ],
          "name": "stdout"
        }
      ]
    },
    {
      "cell_type": "code",
      "metadata": {
        "id": "jpDGK_eyXJ0M",
        "colab_type": "code",
        "outputId": "fecc95ce-28ce-4827-8089-99a4c836a472",
        "colab": {
          "base_uri": "https://localhost:8080/",
          "height": 35
        }
      },
      "source": [
        "import numpy as np\n",
        "data = np.array([1,2,3],dtype = np.float) \n",
        "#array에 있는 int 자료형을 dtype에 있는 float로 바꾸겠다\n",
        "data.dtype #자료형이 float로 출력 \n",
        "\n",
        "data = np.array([1,2,3],dtype = np.int) #float로 저장되어있는 자료형을 int로 변환\n",
        "data.dtype  #타입은 int64\n",
        "data #정수로 변환되어 있음 \n",
        "data.astype(np.float) #data를 float형으로 변환"
      ],
      "execution_count": 0,
      "outputs": [
        {
          "output_type": "execute_result",
          "data": {
            "text/plain": [
              "dtype('float64')"
            ]
          },
          "metadata": {
            "tags": []
          },
          "execution_count": 28
        }
      ]
    },
    {
      "cell_type": "code",
      "metadata": {
        "id": "KNoe4QZuY5Gs",
        "colab_type": "code",
        "outputId": "98f7c639-b7ef-4a2b-9c54-6bbac66ecc6e",
        "colab": {
          "base_uri": "https://localhost:8080/",
          "height": 35
        }
      },
      "source": [
        "d1 = np.array([1,2,3], dtype= float)\n",
        "d2 = np.array([1,2,3], dtype= complex)\n",
        "d1+d2 #결과가 복소수형태로 나옴\n",
        "\n",
        "(d1+d2).dtype #자료형이 복소수임을 알려준다"
      ],
      "execution_count": 0,
      "outputs": [
        {
          "output_type": "execute_result",
          "data": {
            "text/plain": [
              "dtype('complex128')"
            ]
          },
          "metadata": {
            "tags": []
          },
          "execution_count": 30
        }
      ]
    },
    {
      "cell_type": "code",
      "metadata": {
        "id": "Zs8E3UwJaFat",
        "colab_type": "code",
        "outputId": "a60a9e2f-1ca6-4c6e-d6e5-4ce6438209da",
        "colab": {
          "base_uri": "https://localhost:8080/",
          "height": 52
        }
      },
      "source": [
        "import numpy as np\n",
        "x1 = 5.4*np.ones(10) #5.4를 10번 반복, 똑같은 수를 반복\n",
        "print(x1)\n",
        "x2 = np.full(10,5.4) #5.4를 10번 반복 \n",
        "print(x2)\n"
      ],
      "execution_count": 0,
      "outputs": [
        {
          "output_type": "stream",
          "text": [
            "[5.4 5.4 5.4 5.4 5.4 5.4 5.4 5.4 5.4 5.4]\n",
            "[5.4 5.4 5.4 5.4 5.4 5.4 5.4 5.4 5.4 5.4]\n"
          ],
          "name": "stdout"
        }
      ]
    },
    {
      "cell_type": "code",
      "metadata": {
        "id": "NP3KrHaDd2RU",
        "colab_type": "code",
        "outputId": "1d0d341c-343f-402e-8826-1ca3c58d23ab",
        "colab": {
          "base_uri": "https://localhost:8080/",
          "height": 34
        }
      },
      "source": [
        "import numpy as np\n",
        "x1 = np.empty(5)\n",
        "x1.fill(3)#빈공간에 채워 넣기\n",
        "print(x1)"
      ],
      "execution_count": 0,
      "outputs": [
        {
          "output_type": "stream",
          "text": [
            "[3. 3. 3. 3. 3.]\n"
          ],
          "name": "stdout"
        }
      ]
    },
    {
      "cell_type": "code",
      "metadata": {
        "id": "8jpwyCkBj5YU",
        "colab_type": "code",
        "outputId": "060e5692-d3ed-40f0-fd46-87965fcb9734",
        "colab": {
          "base_uri": "https://localhost:8080/",
          "height": 34
        }
      },
      "source": [
        "import numpy as np\n",
        "np.array([1.,2.,3.,4.,5.,6.,7.,8.,9.,10.])\n",
        "np.linspace(0,10,11)"
      ],
      "execution_count": 0,
      "outputs": [
        {
          "output_type": "execute_result",
          "data": {
            "text/plain": [
              "array([ 0.,  1.,  2.,  3.,  4.,  5.,  6.,  7.,  8.,  9., 10.])"
            ]
          },
          "metadata": {
            "tags": []
          },
          "execution_count": 25
        }
      ]
    },
    {
      "cell_type": "code",
      "metadata": {
        "id": "FnJoPSFYkQZS",
        "colab_type": "code",
        "outputId": "137e95db-889d-4e28-db08-089f025ff8a5",
        "colab": {
          "base_uri": "https://localhost:8080/",
          "height": 52
        }
      },
      "source": [
        "import numpy as np\n",
        "np.array([1.,2.,3.,4.,5.,6.,7.,8.,9.,10.])\n",
        "np.logspace(0,2,5)"
      ],
      "execution_count": 0,
      "outputs": [
        {
          "output_type": "execute_result",
          "data": {
            "text/plain": [
              "array([  1.        ,   3.16227766,  10.        ,  31.6227766 ,\n",
              "       100.        ])"
            ]
          },
          "metadata": {
            "tags": []
          },
          "execution_count": 27
        }
      ]
    },
    {
      "cell_type": "code",
      "metadata": {
        "id": "a2363Y7IkzHh",
        "colab_type": "code",
        "outputId": "b4906890-4581-4274-b875-609ea746abeb",
        "colab": {
          "base_uri": "https://localhost:8080/",
          "height": 70
        }
      },
      "source": [
        "import numpy as np\n",
        "x = np.array([-1,0,1])\n",
        "y = np.array([-2,0,2])\n",
        "x,y = np.meshgrid(x,y)\n",
        "x #가로로 값을 입력\n",
        "y #세로로 값을 입력\n",
        "# z = (x+y) **2\n",
        "# z\n",
        "# np.identity(4) #대각선이 다 1로 채워진다\n",
        "# np.eye(4, k=1) #앞에 수는 정방행렬의 크기, 대각선 방향으로 아래 위로 이동 음수일때 밑으로 "
      ],
      "execution_count": 0,
      "outputs": [
        {
          "output_type": "execute_result",
          "data": {
            "text/plain": [
              "array([[-2, -2, -2],\n",
              "       [ 0,  0,  0],\n",
              "       [ 2,  2,  2]])"
            ]
          },
          "metadata": {
            "tags": []
          },
          "execution_count": 4
        }
      ]
    },
    {
      "cell_type": "code",
      "metadata": {
        "id": "ut3DM_SAnsHL",
        "colab_type": "code",
        "outputId": "0bf2bdef-6d81-45a6-edb8-83856a1635b2",
        "colab": {
          "base_uri": "https://localhost:8080/",
          "height": 34
        }
      },
      "source": [
        "import numpy as np\n",
        "a = np.arange(0,11) \n",
        "a#0에서 10까지 출력\n",
        "a[0]\n",
        "a[-1]\n",
        "a[1:-1] #1에서 -1까지 나와야함\n",
        "a[1:-1: 2] # 1에서 -1까지 증가 폭이 2\n",
        "a[-5:]\n",
        "a[:5]\n",
        "a[-1::-2]"
      ],
      "execution_count": 0,
      "outputs": [
        {
          "output_type": "execute_result",
          "data": {
            "text/plain": [
              "array([10,  8,  6,  4,  2,  0])"
            ]
          },
          "metadata": {
            "tags": []
          },
          "execution_count": 51
        }
      ]
    },
    {
      "cell_type": "code",
      "metadata": {
        "id": "gsB-QEJSo4lT",
        "colab_type": "code",
        "outputId": "9ddf5690-f502-4742-b599-bf72343357ca",
        "colab": {
          "base_uri": "https://localhost:8080/",
          "height": 35
        }
      },
      "source": [
        "before=['2019','12','31']\n",
        "after = list(map(int, before)) #before에 있는 리스트 내용을 int로 변환\n",
        "after"
      ],
      "execution_count": 0,
      "outputs": [
        {
          "output_type": "execute_result",
          "data": {
            "text/plain": [
              "[2019, 12, 31]"
            ]
          },
          "metadata": {
            "tags": []
          },
          "execution_count": 86
        }
      ]
    },
    {
      "cell_type": "code",
      "metadata": {
        "id": "KvmBfjvCsAkf",
        "colab_type": "code",
        "outputId": "abad2ebe-deab-455f-bc38-985fe0be49a6",
        "colab": {
          "base_uri": "https://localhost:8080/",
          "height": 35
        }
      },
      "source": [
        "def adder(a,b):\n",
        "  return a+b\n",
        "\n",
        "adder(5,7)\n",
        "\n",
        "#위와 아래는 동일한 연산\n",
        "\n",
        "(lambda a,b:a+b)(5,7)\n"
      ],
      "execution_count": 0,
      "outputs": [
        {
          "output_type": "execute_result",
          "data": {
            "text/plain": [
              "12"
            ]
          },
          "metadata": {
            "tags": []
          },
          "execution_count": 91
        }
      ]
    },
    {
      "cell_type": "code",
      "metadata": {
        "id": "sqUqgMoGsjd3",
        "colab_type": "code",
        "outputId": "4d0d241a-baed-447f-f81c-48ac9b7a4e63",
        "colab": {
          "base_uri": "https://localhost:8080/",
          "height": 53
        }
      },
      "source": [
        "arr =list(range(1,5))\n",
        "print(arr)\n",
        "\n",
        "list(map(lambda a:a+10,arr))"
      ],
      "execution_count": 0,
      "outputs": [
        {
          "output_type": "stream",
          "text": [
            "[1, 2, 3, 4]\n"
          ],
          "name": "stdout"
        },
        {
          "output_type": "execute_result",
          "data": {
            "text/plain": [
              "[11, 12, 13, 14]"
            ]
          },
          "metadata": {
            "tags": []
          },
          "execution_count": 93
        }
      ]
    },
    {
      "cell_type": "code",
      "metadata": {
        "id": "QP5VZFxctx5w",
        "colab_type": "code",
        "outputId": "b52c574d-c540-48c6-c117-d90ff3657574",
        "colab": {
          "base_uri": "https://localhost:8080/",
          "height": 125
        }
      },
      "source": [
        "f = lambda m, n:n+10*m\n",
        "A = np.fromfunction(f,(6,6),dtype = int)\n",
        "A"
      ],
      "execution_count": 0,
      "outputs": [
        {
          "output_type": "execute_result",
          "data": {
            "text/plain": [
              "array([[ 0,  1,  2,  3,  4,  5],\n",
              "       [10, 11, 12, 13, 14, 15],\n",
              "       [20, 21, 22, 23, 24, 25],\n",
              "       [30, 31, 32, 33, 34, 35],\n",
              "       [40, 41, 42, 43, 44, 45],\n",
              "       [50, 51, 52, 53, 54, 55]])"
            ]
          },
          "metadata": {
            "tags": []
          },
          "execution_count": 134
        }
      ]
    },
    {
      "cell_type": "code",
      "metadata": {
        "id": "Av5jVr_gzV6A",
        "colab_type": "code",
        "outputId": "73221f47-7140-4e81-9a40-fa737547b8e6",
        "colab": {
          "base_uri": "https://localhost:8080/",
          "height": 70
        }
      },
      "source": [
        "f = lambda m, n:n+10*m\n",
        "A = np.fromfunction(f,(6,6),dtype = int)\n",
        "A\n",
        "A[:,1] #1열만 추출\n",
        "A[1,:] #1행만 추출\n",
        "A[:3,:3]"
      ],
      "execution_count": 0,
      "outputs": [
        {
          "output_type": "execute_result",
          "data": {
            "text/plain": [
              "array([[ 0,  1,  2],\n",
              "       [10, 11, 12],\n",
              "       [20, 21, 22]])"
            ]
          },
          "metadata": {
            "tags": []
          },
          "execution_count": 2
        }
      ]
    },
    {
      "cell_type": "code",
      "metadata": {
        "id": "8fJzHVxX0P_f",
        "colab_type": "code",
        "colab": {}
      },
      "source": [
        "f = lambda m, n:n+10*m\n",
        "A = np.fromfunction(f,(6,6),dtype = int)\n",
        "\n",
        "A[3:,:3]"
      ],
      "execution_count": 0,
      "outputs": []
    },
    {
      "cell_type": "code",
      "metadata": {
        "id": "kJGHihaT0W6e",
        "colab_type": "code",
        "colab": {}
      },
      "source": [
        "f = lambda m, n:n+10*m\n",
        "A = np.fromfunction(f,(6,6),dtype = int)\n",
        "\n",
        "A[::2,::2]"
      ],
      "execution_count": 0,
      "outputs": []
    },
    {
      "cell_type": "code",
      "metadata": {
        "id": "sQf-YXlf0iqO",
        "colab_type": "code",
        "outputId": "c7e15dd1-a794-4412-d350-111e678cb4db",
        "colab": {
          "base_uri": "https://localhost:8080/",
          "height": 71
        }
      },
      "source": [
        "f = lambda m, n:n+10*m\n",
        "A = np.fromfunction(f,(6,6),dtype = int)\n",
        "A[1::2,1::3]\n"
      ],
      "execution_count": 0,
      "outputs": [
        {
          "output_type": "execute_result",
          "data": {
            "text/plain": [
              "array([[11, 14],\n",
              "       [31, 34],\n",
              "       [51, 54]])"
            ]
          },
          "metadata": {
            "tags": []
          },
          "execution_count": 159
        }
      ]
    }
  ]
}