{
  "nbformat": 4,
  "nbformat_minor": 0,
  "metadata": {
    "colab": {
      "name": "20191128_수치계산",
      "provenance": [],
      "collapsed_sections": []
    },
    "kernelspec": {
      "name": "python3",
      "display_name": "Python 3"
    }
  },
  "cells": [
    {
      "cell_type": "code",
      "metadata": {
        "id": "Vpo3Y7TzWzzp",
        "colab_type": "code",
        "outputId": "dc6b7ddb-e604-41c3-bfec-aec8486d03ae",
        "colab": {
          "base_uri": "https://localhost:8080/",
          "height": 35
        }
      },
      "source": [
        "import numpy as np\n",
        "a = np.arange(0,10)\n",
        "a[::-2]"
      ],
      "execution_count": 0,
      "outputs": [
        {
          "output_type": "execute_result",
          "data": {
            "text/plain": [
              "array([9, 7, 5, 3, 1])"
            ]
          },
          "metadata": {
            "tags": []
          },
          "execution_count": 67
        }
      ]
    },
    {
      "cell_type": "code",
      "metadata": {
        "id": "-svR6KrtYfZg",
        "colab_type": "code",
        "outputId": "ad2ebfdc-0bbb-4706-a665-a842fd2300bb",
        "colab": {
          "base_uri": "https://localhost:8080/",
          "height": 125
        }
      },
      "source": [
        "import numpy as np\n",
        "f = lambda m, n:n+10*m\n",
        "A = np.fromfunction(f,(6,6),dtype=int)\n",
        "A"
      ],
      "execution_count": 0,
      "outputs": [
        {
          "output_type": "execute_result",
          "data": {
            "text/plain": [
              "array([[ 0,  1,  2,  3,  4,  5],\n",
              "       [10, 11, 12, 13, 14, 15],\n",
              "       [20, 21, 22, 23, 24, 25],\n",
              "       [30, 31, 32, 33, 34, 35],\n",
              "       [40, 41, 42, 43, 44, 45],\n",
              "       [50, 51, 52, 53, 54, 55]])"
            ]
          },
          "metadata": {
            "tags": []
          },
          "execution_count": 25
        }
      ]
    },
    {
      "cell_type": "code",
      "metadata": {
        "id": "_csLfTSGarfW",
        "colab_type": "code",
        "outputId": "ad5c4c0a-deb0-48c6-f36c-99a1daac0e6f",
        "colab": {
          "base_uri": "https://localhost:8080/",
          "height": 71
        }
      },
      "source": [
        "import numpy as np\n",
        "f = lambda m, n:n+10*m\n",
        "A = np.fromfunction(f,(6,6),dtype=int)\n",
        "A[3:,:3]\n",
        "#쉼표 앞에는 행의 시작:끝:증가값, 뒤에는 열의 시작:끝:증가값"
      ],
      "execution_count": 0,
      "outputs": [
        {
          "output_type": "execute_result",
          "data": {
            "text/plain": [
              "array([[30, 31, 32],\n",
              "       [40, 41, 42],\n",
              "       [50, 51, 52]])"
            ]
          },
          "metadata": {
            "tags": []
          },
          "execution_count": 29
        }
      ]
    },
    {
      "cell_type": "code",
      "metadata": {
        "id": "o-H60EgLax1m",
        "colab_type": "code",
        "outputId": "dbad69d0-47dc-420e-8c27-c8d32b0f3bcb",
        "colab": {
          "base_uri": "https://localhost:8080/",
          "height": 71
        }
      },
      "source": [
        "import numpy as np\n",
        "f = lambda m, n:n+10*m\n",
        "A = np.fromfunction(f,(6,6),dtype=int)\n",
        "A[:3,:3]"
      ],
      "execution_count": 0,
      "outputs": [
        {
          "output_type": "execute_result",
          "data": {
            "text/plain": [
              "array([[ 0,  1,  2],\n",
              "       [10, 11, 12],\n",
              "       [20, 21, 22]])"
            ]
          },
          "metadata": {
            "tags": []
          },
          "execution_count": 28
        }
      ]
    },
    {
      "cell_type": "code",
      "metadata": {
        "id": "4BwHwGhYa_-n",
        "colab_type": "code",
        "outputId": "8fb00400-0ec2-450a-9ff0-d6ccae21327a",
        "colab": {
          "base_uri": "https://localhost:8080/",
          "height": 71
        }
      },
      "source": [
        "import numpy as np\n",
        "f = lambda m, n:n+10*m\n",
        "A = np.fromfunction(f,(6,6),dtype=int)\n",
        "A[::2,::2]"
      ],
      "execution_count": 0,
      "outputs": [
        {
          "output_type": "execute_result",
          "data": {
            "text/plain": [
              "array([[ 0,  2,  4],\n",
              "       [20, 22, 24],\n",
              "       [40, 42, 44]])"
            ]
          },
          "metadata": {
            "tags": []
          },
          "execution_count": 30
        }
      ]
    },
    {
      "cell_type": "code",
      "metadata": {
        "id": "tQkFDrP1cEke",
        "colab_type": "code",
        "outputId": "610e8a1f-7e8e-47d9-ff0d-620e054ae1ea",
        "colab": {
          "base_uri": "https://localhost:8080/",
          "height": 71
        }
      },
      "source": [
        "import numpy as np\n",
        "f = lambda m, n:n+10*m\n",
        "A = np.fromfunction(f,(6,6),dtype=int)\n",
        "A[1::2,1::3]"
      ],
      "execution_count": 0,
      "outputs": [
        {
          "output_type": "execute_result",
          "data": {
            "text/plain": [
              "array([[11, 14],\n",
              "       [31, 34],\n",
              "       [51, 54]])"
            ]
          },
          "metadata": {
            "tags": []
          },
          "execution_count": 34
        }
      ]
    },
    {
      "cell_type": "code",
      "metadata": {
        "id": "CifwZDHFcqO5",
        "colab_type": "code",
        "outputId": "d7b6a074-3cfb-471a-cfa6-6dd05756398f",
        "colab": {
          "base_uri": "https://localhost:8080/",
          "height": 122
        }
      },
      "source": [
        "import numpy as np\n",
        "f = lambda m, n:n+10*m\n",
        "A = np.fromfunction(f,(6,6),dtype=int)\n",
        "A\n",
        "B = A[1:5,1:5]\n",
        "B[:]= 0\n",
        "A#원본이랑 이어진다"
      ],
      "execution_count": 0,
      "outputs": [
        {
          "output_type": "execute_result",
          "data": {
            "text/plain": [
              "array([[ 0,  1,  2,  3,  4,  5],\n",
              "       [10,  0,  0,  0,  0, 15],\n",
              "       [20,  0,  0,  0,  0, 25],\n",
              "       [30,  0,  0,  0,  0, 35],\n",
              "       [40,  0,  0,  0,  0, 45],\n",
              "       [50, 51, 52, 53, 54, 55]])"
            ]
          },
          "metadata": {
            "tags": []
          },
          "execution_count": 1
        }
      ]
    },
    {
      "cell_type": "code",
      "metadata": {
        "id": "E59QYoxoepMn",
        "colab_type": "code",
        "outputId": "45ae6089-347a-4d04-af3a-4b45ad3883a6",
        "colab": {
          "base_uri": "https://localhost:8080/",
          "height": 105
        }
      },
      "source": [
        "import numpy as np\n",
        "data = np.arange(0,5)\n",
        "column =data[:,np.newaxis] #행과 열축 바꾸기\n",
        "column\n",
        "#row = data[np.newaxis, :] #열과 행 바꾸기\n",
        "#row"
      ],
      "execution_count": 0,
      "outputs": [
        {
          "output_type": "execute_result",
          "data": {
            "text/plain": [
              "array([[0],\n",
              "       [1],\n",
              "       [2],\n",
              "       [3],\n",
              "       [4]])"
            ]
          },
          "metadata": {
            "tags": []
          },
          "execution_count": 3
        }
      ]
    },
    {
      "cell_type": "code",
      "metadata": {
        "id": "F1Gu-xn1fuTX",
        "colab_type": "code",
        "outputId": "7b0d87b0-6960-401f-d353-8b3185926974",
        "colab": {
          "base_uri": "https://localhost:8080/",
          "height": 70
        }
      },
      "source": [
        "import numpy as np\n",
        "data = np.arange(5)\n",
        "data\n",
        "np.vstack((data,data,data))#행로 데이터 쌓기\n",
        "#np.hstack((data,data,data))#열으로 데이터 쌓기"
      ],
      "execution_count": 0,
      "outputs": [
        {
          "output_type": "execute_result",
          "data": {
            "text/plain": [
              "array([[0, 1, 2, 3, 4],\n",
              "       [0, 1, 2, 3, 4],\n",
              "       [0, 1, 2, 3, 4]])"
            ]
          },
          "metadata": {
            "tags": []
          },
          "execution_count": 8
        }
      ]
    },
    {
      "cell_type": "code",
      "metadata": {
        "id": "xWqrn_HPhGLl",
        "colab_type": "code",
        "outputId": "5c89837b-ac0f-42ba-de70-9480fd42e131",
        "colab": {
          "base_uri": "https://localhost:8080/",
          "height": 107
        }
      },
      "source": [
        "import numpy as np\n",
        "data = np.arange(5)\n",
        "data = data[:, np.newaxis]\n",
        "np.hstack((data,data,data))#행으로 데이터 쌓기"
      ],
      "execution_count": 0,
      "outputs": [
        {
          "output_type": "execute_result",
          "data": {
            "text/plain": [
              "array([[0, 0, 0],\n",
              "       [1, 1, 1],\n",
              "       [2, 2, 2],\n",
              "       [3, 3, 3],\n",
              "       [4, 4, 4]])"
            ]
          },
          "metadata": {
            "tags": []
          },
          "execution_count": 66
        }
      ]
    },
    {
      "cell_type": "code",
      "metadata": {
        "id": "7vqA0P-_iiWG",
        "colab_type": "code",
        "outputId": "49f3a06b-47c6-4e0a-9754-3ae61bd8e6d8",
        "colab": {
          "base_uri": "https://localhost:8080/",
          "height": 107
        }
      },
      "source": [
        "import numpy as np\n",
        "np.identity(5) #대각선이 다 1로 채워진다\n",
        "np.eye(5, k=1) #앞에 수는 정방행렬의 크기, 대각선 방향으로 아래 위로 이동 음수일때 밑으로 "
      ],
      "execution_count": 0,
      "outputs": [
        {
          "output_type": "execute_result",
          "data": {
            "text/plain": [
              "array([[0., 1., 0., 0., 0.],\n",
              "       [0., 0., 1., 0., 0.],\n",
              "       [0., 0., 0., 1., 0.],\n",
              "       [0., 0., 0., 0., 1.],\n",
              "       [0., 0., 0., 0., 0.]])"
            ]
          },
          "metadata": {
            "tags": []
          },
          "execution_count": 74
        }
      ]
    },
    {
      "cell_type": "code",
      "metadata": {
        "id": "2PPzUEoJpzpM",
        "colab_type": "code",
        "outputId": "cd0e549a-3c1c-4c2f-b16b-3cd1d59319dd",
        "colab": {
          "base_uri": "https://localhost:8080/",
          "height": 87
        }
      },
      "source": [
        "import numpy as np\n",
        "np.diag(np.arange(0,20,5)) #0부터 20전까지 5씩 증가"
      ],
      "execution_count": 0,
      "outputs": [
        {
          "output_type": "execute_result",
          "data": {
            "text/plain": [
              "array([[ 0,  0,  0,  0],\n",
              "       [ 0,  5,  0,  0],\n",
              "       [ 0,  0, 10,  0],\n",
              "       [ 0,  0,  0, 15]])"
            ]
          },
          "metadata": {
            "tags": []
          },
          "execution_count": 6
        }
      ]
    },
    {
      "cell_type": "code",
      "metadata": {
        "id": "mjOqcNHfqHUP",
        "colab_type": "code",
        "outputId": "729a3fdb-463f-492e-bd80-ee134edf42b8",
        "colab": {
          "base_uri": "https://localhost:8080/",
          "height": 34
        }
      },
      "source": [
        "import numpy as np \n",
        "x = np.linspace(-1,1,11)\n",
        "y = np.sin(np.pi *x)\n",
        "np.round(y,decimals =4) #y값을 소수 4자리에서 반올림 시키겠다\n",
        "#np.sin(x)**2+np.cos(x)**2\n",
        "np.add(np.sin(x)**2,np.cos(x)**2) #위의 주석과 같은 역할\n",
        "#빼기는 substract, 곱하기 multiply, 나누기 divide 나머지 remainder 반올림 round 부호 sign 절대값 abs 지수 power"
      ],
      "execution_count": 0,
      "outputs": [
        {
          "output_type": "execute_result",
          "data": {
            "text/plain": [
              "array([1., 1., 1., 1., 1., 1., 1., 1., 1., 1., 1.])"
            ]
          },
          "metadata": {
            "tags": []
          },
          "execution_count": 9
        }
      ]
    },
    {
      "cell_type": "code",
      "metadata": {
        "id": "WVJ-HtKttyIs",
        "colab_type": "code",
        "outputId": "e1eb9185-d7a7-4784-b26b-22740a976371",
        "colab": {
          "base_uri": "https://localhost:8080/",
          "height": 34
        }
      },
      "source": [
        "import numpy as np\n",
        "data = np.arange(1,10).reshape(3,3)#만든 리스트를 3X3행렬로 만듦\n",
        "data.sum() #안에 데이터의 합을 나타냄\n",
        "data.sum(axis =0) #열의 합\n",
        "data.sum(axis = 1) #행의 합\n"
      ],
      "execution_count": 0,
      "outputs": [
        {
          "output_type": "execute_result",
          "data": {
            "text/plain": [
              "array([ 6, 15, 24])"
            ]
          },
          "metadata": {
            "tags": []
          },
          "execution_count": 15
        }
      ]
    },
    {
      "cell_type": "code",
      "metadata": {
        "id": "Z1dpIEuKwq7D",
        "colab_type": "code",
        "colab": {}
      },
      "source": [
        "import numpy as np\n",
        "a = np.array([1,2,3,4])\n",
        "b = np.array([4,3,2,1])\n",
        "a<b\n",
        "np.all(a<b)\n",
        "np.any(a<b)"
      ],
      "execution_count": 0,
      "outputs": []
    },
    {
      "cell_type": "code",
      "metadata": {
        "id": "iiPzkw-hvP1x",
        "colab_type": "code",
        "colab": {}
      },
      "source": [
        ""
      ],
      "execution_count": 0,
      "outputs": []
    },
    {
      "cell_type": "code",
      "metadata": {
        "id": "rpbd6UfbxANE",
        "colab_type": "code",
        "outputId": "6b7721d5-7f29-4766-9a47-2b6ed718aefb",
        "colab": {
          "base_uri": "https://localhost:8080/",
          "height": 35
        }
      },
      "source": [
        "import numpy as np\n",
        "a = np.array([1,2,3,4])\n",
        "b = np.array([0,1,2,3])\n",
        "if np.all(a<b):\n",
        "  print(\"모두 큼\")\n",
        "elif np.any(a<b):\n",
        "  print(\"어떤 건 큼\")\n",
        "else:\n",
        "  print(\"모두 작다\")"
      ],
      "execution_count": 0,
      "outputs": [
        {
          "output_type": "stream",
          "text": [
            "모두 작다\n"
          ],
          "name": "stdout"
        }
      ]
    },
    {
      "cell_type": "code",
      "metadata": {
        "id": "z1hZ1Py2zbc6",
        "colab_type": "code",
        "outputId": "1ac7a657-788c-48b5-bae6-9a3417dc4e07",
        "colab": {
          "base_uri": "https://localhost:8080/",
          "height": 34
        }
      },
      "source": [
        "def puls(x,position,height, width):\n",
        "  return height *(x>=position)*(x<=(position + width))\n",
        "x = np.linspace(-5,5,11)\n",
        "puls(x,position = -2, height =1, width =5)"
      ],
      "execution_count": 0,
      "outputs": [
        {
          "output_type": "execute_result",
          "data": {
            "text/plain": [
              "array([0, 0, 0, 1, 1, 1, 1, 1, 1, 0, 0])"
            ]
          },
          "metadata": {
            "tags": []
          },
          "execution_count": 22
        }
      ]
    },
    {
      "cell_type": "code",
      "metadata": {
        "id": "uwyonOTL1ZKq",
        "colab_type": "code",
        "outputId": "a98c00a0-51e6-4010-9faa-b2e3c28c5cf1",
        "colab": {
          "base_uri": "https://localhost:8080/",
          "height": 34
        }
      },
      "source": [
        "x = np.linspace(-4,4,9)\n",
        "np.where(x<0,x**2,x**3) #삼항연산자랑 비슷\n",
        "np.select([x<-1,x<2,x>=2],[x**2,x**3,x**4])"
      ],
      "execution_count": 0,
      "outputs": [
        {
          "output_type": "execute_result",
          "data": {
            "text/plain": [
              "array([ 16.,   9.,   4.,  -1.,   0.,   1.,  16.,  81., 256.])"
            ]
          },
          "metadata": {
            "tags": []
          },
          "execution_count": 24
        }
      ]
    }
  ]
}